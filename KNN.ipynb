{
 "cells": [
  {
   "cell_type": "code",
   "execution_count": 39,
   "metadata": {},
   "outputs": [
    {
     "name": "stdout",
     "output_type": "stream",
     "text": [
      "['Iris-setosa']\n"
     ]
    }
   ],
   "source": [
    "from scipy import *\n",
    "import pandas as pd\n",
    "import numpy as np\n",
    "import pylab as pl\n",
    "from sklearn.neighbors import KNeighborsClassifier\n",
    "X_data=pd.read_csv(\"C:\\\\Users\\\\paull\\\\Downloads\\\\Intel-ML101-Class1\\\\Intel-ML101_Class1\\\\data\\\\Iris_Data.csv\")\n",
    "X_data=X_data.loc[:,[\"sepal_length\",\"sepal_width\"]]\n",
    "Y_data=pd.read_csv(\"C:\\\\Users\\\\paull\\\\Downloads\\\\Intel-ML101-Class1\\\\Intel-ML101_Class1\\\\data\\\\Iris_Data.csv\")\n",
    "Y_data=Y_data.loc[:,\"species\"]\n",
    "KNN = KNeighborsClassifier(n_neighbors=3)\n",
    "KNN = KNN.fit(X_data, Y_data)\n",
    "y_predict = KNN.predict(np.c_[5,4])\n",
    "print(y_predict)\n"
   ]
  },
  {
   "cell_type": "code",
   "execution_count": 48,
   "metadata": {},
   "outputs": [
    {
     "data": {
      "image/png": "[encoded data removed]",
      "text/plain": [
       "<matplotlib.figure.Figure at 0x23b6d7ba908>"
      ]
     },
     "metadata": {},
     "output_type": "display_data"
    }
   ],
   "source": [
    "h=0.02\n",
    "x_min, x_max = X_data[\"sepal_length\"].min() - .5, X_data[\"sepal_length\"].max() + .5\n",
    "y_min, y_max = X_data[\"sepal_width\"].min() - .5, X_data[\"sepal_width\"].max() + .5\n",
    "xx, yy = np.meshgrid(np.arange(x_min, x_max, h), np.arange(y_min, y_max, h))\n",
    "Z = KNN.predict(np.c_[xx.ravel(), yy.ravel()])\n",
    "\n",
    "# Put the result into a color plot\n",
    "Z = Z.reshape(xx.shape)\n",
    "pl.figure(1, figsize=(4, 3))\n",
    "pl.set_cmap(pl.cm.Paired)\n",
    "#pl.pcolormesh(xx, yy, Z)\n",
    "\n",
    "# Plot also the training points\n",
    "pl.scatter(X_data[\"sepal_length\"], X_data[\"sepal_width\"])\n",
    "pl.xlabel('Sepal length')\n",
    "pl.ylabel('Sepal width')\n",
    "\n",
    "pl.xlim(xx.min(), xx.max())\n",
    "pl.ylim(yy.min(), yy.max())\n",
    "pl.xticks(())\n",
    "pl.yticks(())\n",
    "\n",
    "pl.show()"
   ]
  }
 ],
 "metadata": {
  "kernelspec": {
   "display_name": "Python 3",
   "language": "python",
   "name": "python3"
  },
  "language_info": {
   "codemirror_mode": {
    "name": "ipython",
    "version": 3
   },
   "file_extension": ".py",
   "mimetype": "text/x-python",
   "name": "python",
   "nbconvert_exporter": "python",
   "pygments_lexer": "ipython3",
   "version": "3.6.3"
  }
 },
 "nbformat": 4,
 "nbformat_minor": 2
}
